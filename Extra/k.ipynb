{
 "cells": [
  {
   "cell_type": "code",
   "execution_count": 22,
   "metadata": {},
   "outputs": [],
   "source": [
    "import numpy as np\n",
    "import pandas as pd\n",
    "from sklearn.model_selection import train_test_split, RandomizedSearchCV, StratifiedKFold\n",
    "from sklearn.ensemble import RandomForestClassifier\n",
    "from sklearn.metrics import accuracy_score, classification_report\n",
    "\n"
   ]
  },
  {
   "cell_type": "code",
   "execution_count": 28,
   "metadata": {},
   "outputs": [
    {
     "name": "stdout",
     "output_type": "stream",
     "text": [
      "Error: One or more classes have fewer than two members.\n"
     ]
    }
   ],
   "source": [
    "import numpy as np\n",
    "import pandas as pd\n",
    "from sklearn.model_selection import train_test_split, RandomizedSearchCV, StratifiedKFold\n",
    "from sklearn.ensemble import RandomForestClassifier\n",
    "from sklearn.metrics import accuracy_score, classification_report\n",
    "from sklearn.utils import shuffle\n",
    "\n",
    "# Load your dataset from a CSV file\n",
    "df = pd.read_csv(\"data.csv\")\n",
    "\n",
    "# Assuming 'Weight' is your feature and 'CO2' is your target\n",
    "X = df[[\"Weight\"]]\n",
    "y = df['CO2']\n",
    "\n",
    "# Shuffle the dataset to ensure randomness\n",
    "X, y = shuffle(X, y, random_state=42)\n",
    "\n",
    "# Define the Random Forest Classifier model\n",
    "model = RandomForestClassifier()\n",
    "\n",
    "# Define a hyperparameter grid to search over\n",
    "param_grid = {\n",
    "    'n_estimators': [100, 200, 300],\n",
    "    'max_depth': [None, 10, 20, 30],\n",
    "    'min_samples_split': [2, 5, 10],\n",
    "    'min_samples_leaf': [1, 2, 4],\n",
    "    'bootstrap': [True, False]\n",
    "}\n",
    "\n",
    "# Check if any class has fewer than two members\n",
    "class_counts = y.value_counts()\n",
    "if class_counts.min() < 2:\n",
    "    print(\"Error: One or more classes have fewer than two members.\")\n",
    "else:\n",
    "    # Split the dataset into training and testing sets with stratified sampling\n",
    "    X_train, X_test, y_train, y_test = train_test_split(X, y, test_size=0.2, stratify=y, random_state=42)\n",
    "\n",
    "    # Use 3-fold cross-validation\n",
    "    stratified_cv = StratifiedKFold(n_splits=3, shuffle=True, random_state=42)\n",
    "\n",
    "    # Perform hyperparameter tuning using RandomizedSearchCV\n",
    "    random_search = RandomizedSearchCV(estimator=model, param_distributions=param_grid, n_iter=100, cv=stratified_cv, n_jobs=-1)\n",
    "    random_search.fit(X_train, y_train)\n",
    "    best_params = random_search.best_params_\n",
    "\n",
    "    # Train the model with the best hyperparameters\n",
    "    best_model = random_search.best_estimator_\n",
    "    best_model.fit(X_train, y_train)\n",
    "\n",
    "    # Evaluate the model on the test set\n",
    "    y_pred = best_model.predict(X_test)\n",
    "\n",
    "    # Calculate accuracy and other classification metrics\n",
    "    accuracy = accuracy_score(y_test, y_pred)\n",
    "    report = classification_report(y_test, y_pred)\n",
    "\n",
    "    print(\"Best Hyperparameters:\", best_params)\n",
    "    print(\"Test Accuracy:\", accuracy)\n",
    "    print(\"Classification Report:\\n\", report)\n"
   ]
  },
  {
   "cell_type": "code",
   "execution_count": null,
   "metadata": {},
   "outputs": [],
   "source": []
  }
 ],
 "metadata": {
  "kernelspec": {
   "display_name": "Python 3 (ipykernel)",
   "language": "python",
   "name": "python3"
  },
  "language_info": {
   "codemirror_mode": {
    "name": "ipython",
    "version": 3
   },
   "file_extension": ".py",
   "mimetype": "text/x-python",
   "name": "python",
   "nbconvert_exporter": "python",
   "pygments_lexer": "ipython3",
   "version": "3.11.4"
  }
 },
 "nbformat": 4,
 "nbformat_minor": 4
}
